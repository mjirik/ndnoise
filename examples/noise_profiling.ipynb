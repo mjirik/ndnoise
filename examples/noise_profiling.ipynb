{
 "cells": [
  {
   "cell_type": "code",
   "execution_count": 17,
   "metadata": {
    "collapsed": false
   },
   "outputs": [
    {
     "name": "stdout",
     "output_type": "stream",
     "text": [
      "Populating the interactive namespace from numpy and matplotlib\n"
     ]
    }
   ],
   "source": [
    "%pylab inliyyne"
   ]
  },
  {
   "cell_type": "code",
   "execution_count": 18,
   "metadata": {
    "collapsed": false
   },
   "outputs": [
    {
     "name": "stdout",
     "output_type": "stream",
     "text": [
      "/Users/mjirik/projects/ndnoise\n"
     ]
    }
   ],
   "source": [
    "import sys\n",
    "import os.path as op\n",
    "pth = op.abspath(\"../\")\n",
    "print pth\n",
    "sys.path.insert(0, pth)\n",
    "import profile"
   ]
  },
  {
   "cell_type": "code",
   "execution_count": 19,
   "metadata": {
    "collapsed": true
   },
   "outputs": [],
   "source": [
    "import ndnoise"
   ]
  },
  {
   "cell_type": "code",
   "execution_count": null,
   "metadata": {
    "collapsed": false
   },
   "outputs": [
    {
     "name": "stdout",
     "output_type": "stream",
     "text": [
      "/Users/mjirik/projects/ndnoise\n"
     ]
    }
   ],
   "source": [
    "pth = op.abspath(\"../\")\n",
    "print pth\n",
    "sys.path.insert(0, pth)\n",
    "\n",
    "#import scipy.misc\n",
    "#lena = scipy.misc.ascent()\n",
    "#spectrum = np.fft.fftn(lena)\n",
    "\n",
    "def noise_test():\n",
    "    noise = ndnoise.generator.noises(\n",
    "        [401, 402, 403],\n",
    "        sample_spacing=[1,1,1],\n",
    "        random_generator_seed=5,\n",
    "        lambda_start=20,\n",
    "        lambda_stop=22,\n",
    "        exponent=0.0\n",
    "    )\n"
   ]
  },
  {
   "cell_type": "code",
   "execution_count": null,
   "metadata": {
    "collapsed": false,
    "scrolled": false
   },
   "outputs": [],
   "source": [
    "profile.run(\"noise_test()\", \"pfile.stats\")\n",
    "import pstats\n"
   ]
  },
  {
   "cell_type": "code",
   "execution_count": null,
   "metadata": {
    "collapsed": false
   },
   "outputs": [],
   "source": [
    "\n",
    "stats = pstats.Stats(\"pfile.stats\")\n",
    "stats.sort_stats(\"cumulative\")\n",
    "stats.print_stats(\"ndnoise\")"
   ]
  },
  {
   "cell_type": "code",
   "execution_count": null,
   "metadata": {
    "collapsed": false
   },
   "outputs": [],
   "source": [
    "stats.print_stats()"
   ]
  },
  {
   "cell_type": "code",
   "execution_count": null,
   "metadata": {
    "collapsed": false
   },
   "outputs": [],
   "source": [
    "ctx = dict(\n",
    "        # shape=[100,102,103],\n",
    "        sample_spacing=[1,1,1],\n",
    "        random_generator_seed=5,\n",
    "        lambda_start=20,\n",
    "        lambda_stop=22,\n",
    "        exponent=0.0\n",
    ")\n",
    "profile.runctx(\n",
    "    \"ndnoise.generator.noises([100, 100, 100], sample_spacing, random_generator_seed, lambda_start, lambda_stop, exponent)\",\n",
    "    globals(),\n",
    "    ctx,\n",
    "    \n",
    ")"
   ]
  },
  {
   "cell_type": "code",
   "execution_count": null,
   "metadata": {
    "collapsed": true
   },
   "outputs": [],
   "source": [
    "profile.runctx(\"ndnoise.generator.noises()\")"
   ]
  }
 ],
 "metadata": {
  "anaconda-cloud": {},
  "kernelspec": {
   "display_name": "Python 2",
   "language": "python",
   "name": "python2"
  },
  "language_info": {
   "codemirror_mode": {
    "name": "ipython",
    "version": 2
   },
   "file_extension": ".py",
   "mimetype": "text/x-python",
   "name": "python",
   "nbconvert_exporter": "python",
   "pygments_lexer": "ipython2",
   "version": "2.7.11"
  }
 },
 "nbformat": 4,
 "nbformat_minor": 0
}
